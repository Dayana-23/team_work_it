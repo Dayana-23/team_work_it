{
 "cells": [
  {
   "cell_type": "markdown",
   "metadata": {},
   "source": [
    "# Assignment 3\n",
    "\n",
    "+ In this assignment, we have solved 5 tasks by using Huffman algorithm. Initially, we were encoding our text file with probabilities by making Huffman tree, and showing the result in binary digits, finally calculating some things such as length of code, data compression ratios.\n",
    "\n",
    "\n",
    "+ Dayana Kassenova and Dariya Mamayeva BD-1903"
   ]
  },
  {
   "cell_type": "markdown",
   "metadata": {},
   "source": [
    "## Output 1 (updated frequency calculator) Dayana"
   ]
  },
  {
   "cell_type": "code",
   "execution_count": 18,
   "metadata": {},
   "outputs": [],
   "source": [
    "def countfrequency(filename):\n",
    "    file = open(filename)\n",
    "    string=file.read()\n",
    "    charset=[]\n",
    "    for i in string:\n",
    "        if i not in charset:\n",
    "            charset.append(i)\n",
    "    chardict={i:0 for i in charset}\n",
    "    for i in string:\n",
    "        for j in charset:\n",
    "            if i==j:\n",
    "                chardict[j]+=1\n",
    "    n={}\n",
    "    for i in chardict:\n",
    "        n[i]=chardict[i]/len(string)\n",
    "        if i==' ':\n",
    "            n['space']=n.pop(' ')\n",
    "        if i=='\\n':\n",
    "            n['newline']=n.pop('\\n')\n",
    "    return n"
   ]
  },
  {
   "cell_type": "code",
   "execution_count": 19,
   "metadata": {},
   "outputs": [
    {
     "data": {
      "text/plain": [
       "{'L': 0.001692047377326565,\n",
       " 'e': 0.08121827411167512,\n",
       " 't': 0.07614213197969544,\n",
       " ',': 0.01015228426395939,\n",
       " 's': 0.047377326565143825,\n",
       " 'space': 0.17258883248730963,\n",
       " 'a': 0.07106598984771574,\n",
       " 'r': 0.03722504230118443,\n",
       " 'f': 0.02707275803722504,\n",
       " 'o': 0.05245346869712352,\n",
       " 'm': 0.023688663282571912,\n",
       " 'h': 0.03553299492385787,\n",
       " 'i': 0.06429780033840947,\n",
       " 'n': 0.05414551607445008,\n",
       " 'l': 0.02707275803722504,\n",
       " 'p': 0.00676818950930626,\n",
       " 'g': 0.01353637901861252,\n",
       " '“': 0.005076142131979695,\n",
       " 'd': 0.02707275803722504,\n",
       " '”': 0.005076142131979695,\n",
       " '.': 0.01015228426395939,\n",
       " 'F': 0.001692047377326565,\n",
       " 'W': 0.00676818950930626,\n",
       " 'y': 0.018612521150592216,\n",
       " 'u': 0.015228426395939087,\n",
       " 'w': 0.015228426395939087,\n",
       " '?': 0.005076142131979695,\n",
       " 'N': 0.00338409475465313,\n",
       " 'x': 0.001692047377326565,\n",
       " 'v': 0.005076142131979695,\n",
       " 'c': 0.021996615905245348,\n",
       " 'Y': 0.001692047377326565,\n",
       " 'b': 0.00676818950930626,\n",
       " 'k': 0.01015228426395939,\n",
       " '#': 0.001692047377326565,\n",
       " '$': 0.00338409475465313,\n",
       " '%': 0.001692047377326565,\n",
       " '^': 0.005076142131979695,\n",
       " '&': 0.001692047377326565,\n",
       " '*': 0.001692047377326565,\n",
       " '@': 0.001692047377326565,\n",
       " '\"': 0.001692047377326565,\n",
       " '1': 0.00338409475465313,\n",
       " '3': 0.00338409475465313,\n",
       " '5': 0.001692047377326565,\n",
       " '7': 0.001692047377326565,\n",
       " '9': 0.001692047377326565,\n",
       " '2': 0.001692047377326565,\n",
       " '0': 0.00338409475465313,\n",
       " '6': 0.001692047377326565}"
      ]
     },
     "execution_count": 19,
     "metadata": {},
     "output_type": "execute_result"
    }
   ],
   "source": [
    "countfrequency(\"GirlsFileText.txt\")"
   ]
  },
  {
   "cell_type": "code",
   "execution_count": 15,
   "metadata": {},
   "outputs": [],
   "source": [
    "# other parts in other files)"
   ]
  }
 ],
 "metadata": {
  "kernelspec": {
   "display_name": "Python 3",
   "language": "python",
   "name": "python3"
  },
  "language_info": {
   "codemirror_mode": {
    "name": "ipython",
    "version": 3
   },
   "file_extension": ".py",
   "mimetype": "text/x-python",
   "name": "python",
   "nbconvert_exporter": "python",
   "pygments_lexer": "ipython3",
   "version": "3.8.5"
  }
 },
 "nbformat": 4,
 "nbformat_minor": 4
}
