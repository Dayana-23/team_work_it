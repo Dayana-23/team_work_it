{
 "cells": [
  {
   "cell_type": "markdown",
   "metadata": {},
   "source": [
    "### Done by Dayana:"
   ]
  },
  {
   "cell_type": "code",
   "execution_count": 3,
   "metadata": {},
   "outputs": [
    {
     "name": "stdout",
     "output_type": "stream",
     "text": [
      "Original file A_Z Handwritten Data\n",
      "_______________________________________________________\n",
      "Encoded file from Huffman: 00000001001011100011101111101000101011001111101101000111111101001101110101\n",
      "_______________________________________________________\n"
     ]
    }
   ],
   "source": [
    "file = open(\"GirlsFileText.txt\")\n",
    "text=file.read()\n",
    "file = open('decoding.txt')\n",
    "string=file.read()\n",
    "print('Original file',text)\n",
    "print('_'*55)\n",
    "print('Encoded file from Huffman:',string)\n",
    "print('_'*55)"
   ]
  },
  {
   "cell_type": "markdown",
   "metadata": {},
   "source": [
    "## Dividing into blocks by 11 bits:\n"
   ]
  },
  {
   "cell_type": "code",
   "execution_count": 4,
   "metadata": {},
   "outputs": [
    {
     "name": "stdout",
     "output_type": "stream",
     "text": [
      "Data Blocks: b1:00000001001\n",
      "b2:01110001110\n",
      "b3:11111010001\n",
      "b4:01011001111\n",
      "b5:10110100011\n",
      "b6:11111010011\n"
     ]
    }
   ],
   "source": [
    "i=1\n",
    "stringcopy = string\n",
    "print('Data Blocks:', end=' ')\n",
    "while len(stringcopy) >= 11:\n",
    "    print(f\"b{i}:{stringcopy[0:11]}\")\n",
    "    i=i+1\n",
    "    stringcopy=stringcopy[11:]"
   ]
  },
  {
   "cell_type": "markdown",
   "metadata": {},
   "source": [
    "# Hamming Coding(15,11)"
   ]
  },
  {
   "cell_type": "code",
   "execution_count": 26,
   "metadata": {},
   "outputs": [],
   "source": [
    "def parityBits(s, slices):\n",
    "    string = \"\"\n",
    "    for i in slices:\n",
    "        string += s[i]\n",
    "    if str.count(string,'1')%2==0:\n",
    "        return '0'\n",
    "    else:\n",
    "        return '1'\n",
    "def show(blocks):\n",
    "    print(f\"Expand block to 16 bits:_ _ {blocks[0]}_{blocks[1]}{blocks[2]}{blocks[3]}_{blocks[4]}{blocks[5]}{blocks[6]}{blocks[7]}{blocks[8]}{blocks[9]}{blocks[10]}\")\n",
    "    st1=blocks[0]+blocks[1]+blocks[3]+blocks[4]+blocks[6]+blocks[8]+blocks[10]\n",
    "    st2=blocks[0]+blocks[2]+blocks[3]+blocks[5]+blocks[6]+blocks[9]+blocks[10]\n",
    "    st3=blocks[1]+blocks[2]+blocks[3]+blocks[7]+blocks[8]+blocks[9]+blocks[10]\n",
    "    st4=blocks[4]+blocks[5]+blocks[6]+blocks[7]+blocks[8]+blocks[9]+blocks[10]\n",
    "    \n",
    "    st0=st1 + st2 + blocks[0] + st3 + blocks[1:3] + st4 + blocks[4:]\n",
    "\n",
    "    print(f\"p1: = {blocks[0]}+{blocks[1]}+{blocks[3]}+{blocks[4]}+{blocks[6]}+{blocks[8]}+{blocks[10]}={str(st1.count('1')%2)}\")\n",
    "    print(f\"p2: = {blocks[0]}+{blocks[2]}+{blocks[3]}+{blocks[5]}+{blocks[6]}+{blocks[9]}+{blocks[10]}={str(st2.count('1')%2)}\")\n",
    "    print(f\"p3: = {blocks[1]}+{blocks[2]}+{blocks[3]}+{blocks[7]}+{blocks[8]}+{blocks[9]}+{blocks[10]}={str(st3.count('1')%2)}\")\n",
    "    print(f\"p4: = {blocks[4]}+{blocks[5]}+{blocks[6]}+{blocks[7]}+{blocks[8]}+{blocks[9]}+{blocks[10]}={str(st4.count('1')%2)}\")\n",
    "\n",
    "    \n",
    "    c1=str(st1.count('1')%2)\n",
    "    c2=str(st2.count('1')%2)\n",
    "    c3=str(st3.count('1')%2)\n",
    "    c4=str(st4.count('1')%2)\n",
    "    print(f\"p0: = {c1}+{c2}+{blocks[0]}+{c3}+{blocks[1]}+{blocks[2]}+{blocks[3]}+{c4}+{blocks[4:]}={str(st0.count('1')%2)}\")\n",
    "\n",
    "def Hamming_15_11(block):\n",
    "    p1 = parityBits(block, [0,1,3,4,6,8,10])\n",
    "    p2 = parityBits(block, [0,2,3,5,6,9,10])\n",
    "    p3 = parityBits(block, [1,2,3,7,8,9,10])\n",
    "    p4 = parityBits(block, [4,5,6,7,8,9,10])\n",
    "\n",
    "    st= p1 + p2 + block[0] + p3 + block[1:3] + p4 + block[4:]\n",
    "\n",
    "    if st.count('1')%2==0:\n",
    "        return '0'+st\n",
    "    else:\n",
    "        return '1'+st\n",
    "    \n",
    "    def Encoding(data):\n",
    "        output=\"\"\n",
    "        while len(data) >= 11:\n",
    "            enc = data[0:11]\n",
    "            output=output+enc\n",
    "            show(enc)\n",
    "            print('Encoded bitstring: ', Hamming_15_11(enc))\n",
    "            print('')\n",
    "            data = data[11:]\n",
    "        f = open(\"hamming_output.txt\", \"w\")\n",
    "        f.write(output)\n",
    "        f.close()\n",
    "        print('The result: ',output)"
   ]
  },
  {
   "cell_type": "code",
   "execution_count": 27,
   "metadata": {},
   "outputs": [
    {
     "name": "stdout",
     "output_type": "stream",
     "text": [
      "Expand block to 16 bits:_ _ 0_000_0001001\n",
      "p1: = 0+0+0+0+0+0+1=1\n",
      "p2: = 0+0+0+0+0+0+1=1\n",
      "p3: = 0+0+0+1+0+0+1=0\n",
      "p4: = 0+0+0+1+0+0+1=0\n",
      "p0: = 1+1+0+0+0+0+0+0+0001001=0\n",
      "Encoded bitstring:  011000000001001\n",
      "\n",
      "Expand block to 16 bits:_ _ 0_111_0001110\n",
      "p1: = 0+1+1+0+0+1+0=1\n",
      "p2: = 0+1+1+0+0+1+0=1\n",
      "p3: = 1+1+1+1+1+1+0=0\n",
      "p4: = 0+0+0+1+1+1+0=1\n",
      "p0: = 1+1+0+0+1+1+1+1+0001110=0\n",
      "Encoded bitstring:  011001110001110\n",
      "\n",
      "Expand block to 16 bits:_ _ 1_111_1010001\n",
      "p1: = 1+1+1+1+1+0+1=0\n",
      "p2: = 1+1+1+0+1+0+1=1\n",
      "p3: = 1+1+1+0+0+0+1=0\n",
      "p4: = 1+0+1+0+0+0+1=1\n",
      "p0: = 0+1+1+0+1+1+1+1+1010001=0\n",
      "Encoded bitstring:  001101111010001\n",
      "\n",
      "Expand block to 16 bits:_ _ 0_101_1001111\n",
      "p1: = 0+1+1+1+0+1+1=1\n",
      "p2: = 0+0+1+0+0+1+1=1\n",
      "p3: = 1+0+1+1+1+1+1=0\n",
      "p4: = 1+0+0+1+1+1+1=1\n",
      "p0: = 1+1+0+0+1+0+1+1+1001111=1\n",
      "Encoded bitstring:  111001011001111\n",
      "\n",
      "Expand block to 16 bits:_ _ 1_011_0100011\n",
      "p1: = 1+0+1+0+0+0+1=1\n",
      "p2: = 1+1+1+1+0+1+1=0\n",
      "p3: = 0+1+1+0+0+1+1=0\n",
      "p4: = 0+1+0+0+0+1+1=1\n",
      "p0: = 1+0+1+0+0+1+1+1+0100011=1\n",
      "Encoded bitstring:  110100110100011\n",
      "\n",
      "Expand block to 16 bits:_ _ 1_111_1010011\n",
      "p1: = 1+1+1+1+1+0+1=0\n",
      "p2: = 1+1+1+0+1+1+1=0\n",
      "p3: = 1+1+1+0+0+1+1=1\n",
      "p4: = 1+0+1+0+0+1+1=0\n",
      "p0: = 0+0+1+1+1+1+1+0+1010011=0\n",
      "Encoded bitstring:  000111101010011\n",
      "\n",
      "The result:  000000010010111000111011111010001010110011111011010001111111010011\n"
     ]
    }
   ],
   "source": [
    "Encoding(string)"
   ]
  },
  {
   "cell_type": "code",
   "execution_count": null,
   "metadata": {},
   "outputs": [],
   "source": []
  }
 ],
 "metadata": {
  "kernelspec": {
   "display_name": "Python 3",
   "language": "python",
   "name": "python3"
  },
  "language_info": {
   "codemirror_mode": {
    "name": "ipython",
    "version": 3
   },
   "file_extension": ".py",
   "mimetype": "text/x-python",
   "name": "python",
   "nbconvert_exporter": "python",
   "pygments_lexer": "ipython3",
   "version": "3.8.5"
  }
 },
 "nbformat": 4,
 "nbformat_minor": 4
}
