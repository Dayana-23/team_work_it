{
 "cells": [
  {
   "cell_type": "markdown",
   "metadata": {},
   "source": [
    "# Assignment 2\n",
    "In this assignment out task was to create function, which will take txt file as input and count the probability of occurence of all characters.\n",
    "Firstly we broke down out task in several smallers tasks.\n",
    "Dayana Kassenova and Dariya Mamayeva BD-1903"
   ]
  },
  {
   "cell_type": "code",
   "execution_count": 1,
   "metadata": {},
   "outputs": [
    {
     "name": "stdout",
     "output_type": "stream",
     "text": [
      "D\n",
      "o\n",
      "w\n",
      "n\n",
      "l\n",
      "o\n",
      "a\n",
      "d\n",
      "s\n",
      " \n"
     ]
    }
   ],
   "source": [
    "#checking if space in string is counting\n",
    "string='Downloads '\n",
    "for i in string:\n",
    "    print(i)"
   ]
  },
  {
   "cell_type": "code",
   "execution_count": 2,
   "metadata": {},
   "outputs": [],
   "source": [
    "#creating the list of unique characters in given string\n",
    "string='following'\n",
    "charset=[]\n",
    "for i in string:\n",
    "    if i not in charset:\n",
    "        charset.append(i)"
   ]
  },
  {
   "cell_type": "code",
   "execution_count": 3,
   "metadata": {},
   "outputs": [
    {
     "data": {
      "text/plain": [
       "['f', 'o', 'l', 'w', 'i', 'n', 'g']"
      ]
     },
     "execution_count": 3,
     "metadata": {},
     "output_type": "execute_result"
    }
   ],
   "source": [
    "charset"
   ]
  },
  {
   "cell_type": "code",
   "execution_count": 4,
   "metadata": {},
   "outputs": [
    {
     "data": {
      "text/plain": [
       "{'f': 0, 'o': 0, 'l': 0, 'w': 0, 'i': 0, 'n': 0, 'g': 0}"
      ]
     },
     "execution_count": 4,
     "metadata": {},
     "output_type": "execute_result"
    }
   ],
   "source": [
    "#creating dictionary, where we will store the number of occurence of each character \n",
    "chardict={i:0 for i in charset}\n",
    "chardict"
   ]
  },
  {
   "cell_type": "code",
   "execution_count": 5,
   "metadata": {},
   "outputs": [],
   "source": [
    "#for any character in string we check it with our dictionary. If they matches we increase the value in dictionary for one\n",
    "for i in string:\n",
    "    for j in charset:\n",
    "        if i==j:\n",
    "            chardict[j]+=1"
   ]
  },
  {
   "cell_type": "code",
   "execution_count": 6,
   "metadata": {},
   "outputs": [
    {
     "data": {
      "text/plain": [
       "{'f': 1, 'o': 2, 'l': 2, 'w': 1, 'i': 1, 'n': 1, 'g': 1}"
      ]
     },
     "execution_count": 6,
     "metadata": {},
     "output_type": "execute_result"
    }
   ],
   "source": [
    "#checking if the code works\n",
    "chardict"
   ]
  },
  {
   "cell_type": "code",
   "execution_count": 7,
   "metadata": {},
   "outputs": [
    {
     "name": "stdout",
     "output_type": "stream",
     "text": [
      "f 0.1111111111111111\n",
      "o 0.2222222222222222\n",
      "l 0.2222222222222222\n",
      "w 0.1111111111111111\n",
      "i 0.1111111111111111\n",
      "n 0.1111111111111111\n",
      "g 0.1111111111111111\n"
     ]
    }
   ],
   "source": [
    "#calculate the probability of all characters by dividing number of occurence by total length\n",
    "for i in chardict:\n",
    "    print(i,chardict[i]/len(string))"
   ]
  },
  {
   "cell_type": "code",
   "execution_count": 57,
   "metadata": {},
   "outputs": [],
   "source": [
    "#collect it all in one function, which takes filename as a parameter\n",
    "def countfrequency(filename):\n",
    "    file = open(filename)\n",
    "    string=file.read()\n",
    "    charset=[]\n",
    "    for i in string:\n",
    "        if i not in charset:\n",
    "            charset.append(i)\n",
    "    chardict={i:0 for i in charset}\n",
    "    for i in string:\n",
    "        for j in charset:\n",
    "            if i==j:\n",
    "                chardict[j]+=1\n",
    "    for i in chardict:\n",
    "        print(i,chardict[i]/len(string))"
   ]
  },
  {
   "cell_type": "code",
   "execution_count": 58,
   "metadata": {},
   "outputs": [
    {
     "name": "stdout",
     "output_type": "stream",
     "text": [
      "L 0.001692047377326565\n",
      "e 0.08121827411167512\n",
      "t 0.07614213197969544\n",
      ", 0.01015228426395939\n",
      "s 0.047377326565143825\n",
      "  0.17258883248730963\n",
      "a 0.07106598984771574\n",
      "r 0.03722504230118443\n",
      "f 0.02707275803722504\n",
      "o 0.05245346869712352\n",
      "m 0.023688663282571912\n",
      "h 0.03553299492385787\n",
      "i 0.06429780033840947\n",
      "n 0.05414551607445008\n",
      "l 0.02707275803722504\n",
      "p 0.00676818950930626\n",
      "g 0.01353637901861252\n",
      "“ 0.005076142131979695\n",
      "d 0.02707275803722504\n",
      "” 0.005076142131979695\n",
      ". 0.01015228426395939\n",
      "F 0.001692047377326565\n",
      "W 0.00676818950930626\n",
      "y 0.018612521150592216\n",
      "u 0.015228426395939087\n",
      "w 0.015228426395939087\n",
      "? 0.005076142131979695\n",
      "N 0.00338409475465313\n",
      "x 0.001692047377326565\n",
      "v 0.005076142131979695\n",
      "c 0.021996615905245348\n",
      "Y 0.001692047377326565\n",
      "b 0.00676818950930626\n",
      "k 0.01015228426395939\n",
      "# 0.001692047377326565\n",
      "$ 0.00338409475465313\n",
      "% 0.001692047377326565\n",
      "^ 0.005076142131979695\n",
      "& 0.001692047377326565\n",
      "* 0.001692047377326565\n",
      "@ 0.001692047377326565\n",
      "\" 0.001692047377326565\n",
      "1 0.00338409475465313\n",
      "3 0.00338409475465313\n",
      "5 0.001692047377326565\n",
      "7 0.001692047377326565\n",
      "9 0.001692047377326565\n",
      "2 0.001692047377326565\n",
      "0 0.00338409475465313\n",
      "6 0.001692047377326565\n"
     ]
    }
   ],
   "source": [
    "#final result\n",
    "countfrequency(\"GirlsFileText.txt\")"
   ]
  }
 ],
 "metadata": {
  "kernelspec": {
   "display_name": "Python 3",
   "language": "python",
   "name": "python3"
  },
  "language_info": {
   "codemirror_mode": {
    "name": "ipython",
    "version": 3
   },
   "file_extension": ".py",
   "mimetype": "text/x-python",
   "name": "python",
   "nbconvert_exporter": "python",
   "pygments_lexer": "ipython3",
   "version": "3.8.5"
  }
 },
 "nbformat": 4,
 "nbformat_minor": 4
}
