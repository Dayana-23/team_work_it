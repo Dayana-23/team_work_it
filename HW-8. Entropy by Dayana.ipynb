{
 "cells": [
  {
   "cell_type": "markdown",
   "metadata": {},
   "source": [
    "## HW-8. Calculating Entropy of the Txt file:"
   ]
  },
  {
   "cell_type": "markdown",
   "metadata": {},
   "source": [
    "### Done by Dayana Kassenova-BDA-03"
   ]
  },
  {
   "cell_type": "markdown",
   "metadata": {},
   "source": [
    "### The 1st Part is here:"
   ]
  },
  {
   "cell_type": "code",
   "execution_count": 31,
   "metadata": {},
   "outputs": [],
   "source": [
    "#collect it all in one function, which takes filename as a parameter\n",
    "def countfrequency(filename):\n",
    "    file = open(filename)\n",
    "    string=file.read()\n",
    "    print('My txt file:')\n",
    "    print(string,'\\n')\n",
    "    charset=[]\n",
    "    for i in string:\n",
    "        if i not in charset:\n",
    "            charset.append(i)\n",
    "    chardict={i:0 for i in charset}\n",
    "    for i in string:\n",
    "        for j in charset:\n",
    "            if i==j:\n",
    "                chardict[j]+=1\n",
    "    for i in chardict:\n",
    "        print(i,'~',round(chardict[i]/len(string),3))"
   ]
  },
  {
   "cell_type": "code",
   "execution_count": 32,
   "metadata": {},
   "outputs": [
    {
     "name": "stdout",
     "output_type": "stream",
     "text": [
      "My txt file:\n",
      "Let,s  start from the initial point of meaning of term “friends”. Friends. Who on your own opinion they are? Nowadays, this word has a mixed variety of meanings and every single human understands it differently, inasmuch as they differ. Yet fact is always fact about that “friend” we accept like a “good human” who need to listen and share with ideas, talk to. We accept it like our little flock, that may be because of instinct that we inherited from our ancestors, like animals million years ago. Now it is common that the biggest flocks have teenagers. Why? What? #$%^&^^*$@\" 13579 230601 \n",
      "\n",
      "L ~ 0.002\n",
      "e ~ 0.081\n",
      "t ~ 0.076\n",
      ", ~ 0.01\n",
      "s ~ 0.047\n",
      "  ~ 0.173\n",
      "a ~ 0.071\n",
      "r ~ 0.037\n",
      "f ~ 0.027\n",
      "o ~ 0.052\n",
      "m ~ 0.024\n",
      "h ~ 0.036\n",
      "i ~ 0.064\n",
      "n ~ 0.054\n",
      "l ~ 0.027\n",
      "p ~ 0.007\n",
      "g ~ 0.014\n",
      "“ ~ 0.005\n",
      "d ~ 0.027\n",
      "” ~ 0.005\n",
      ". ~ 0.01\n",
      "F ~ 0.002\n",
      "W ~ 0.007\n",
      "y ~ 0.019\n",
      "u ~ 0.015\n",
      "w ~ 0.015\n",
      "? ~ 0.005\n",
      "N ~ 0.003\n",
      "x ~ 0.002\n",
      "v ~ 0.005\n",
      "c ~ 0.022\n",
      "Y ~ 0.002\n",
      "b ~ 0.007\n",
      "k ~ 0.01\n",
      "# ~ 0.002\n",
      "$ ~ 0.003\n",
      "% ~ 0.002\n",
      "^ ~ 0.005\n",
      "& ~ 0.002\n",
      "* ~ 0.002\n",
      "@ ~ 0.002\n",
      "\" ~ 0.002\n",
      "1 ~ 0.003\n",
      "3 ~ 0.003\n",
      "5 ~ 0.002\n",
      "7 ~ 0.002\n",
      "9 ~ 0.002\n",
      "2 ~ 0.002\n",
      "0 ~ 0.003\n",
      "6 ~ 0.002\n"
     ]
    }
   ],
   "source": [
    "# Result FOR Each Symbol Probabilities:\n",
    "countfrequency(\"GirlsFileText2.txt\")"
   ]
  },
  {
   "cell_type": "code",
   "execution_count": 33,
   "metadata": {},
   "outputs": [
    {
     "name": "stdout",
     "output_type": "stream",
     "text": [
      "\n",
      "~~~Entropy is: 4.508 bits/symbol\n"
     ]
    }
   ],
   "source": [
    "# Importing Standard Library:\n",
    "import numpy as np\n",
    "\n",
    "with open(\"GirlsFileText2.txt\") as file:\n",
    "    text = np.array(list(file.read()))\n",
    "_, count = np.unique(text, return_counts=True)\n",
    "\n",
    "probty = count/np.sum(count)\n",
    "#print('Probability of each symbol:', probty)\n",
    "\n",
    "H_Entropy = -np.sum(probty * np.log2(probty))\n",
    "print('\\n~~~Entropy is:', round(H_Entropy,3),'bits/symbol')"
   ]
  },
  {
   "cell_type": "markdown",
   "metadata": {},
   "source": [
    "### The 2nd part is in another Document File."
   ]
  }
 ],
 "metadata": {
  "kernelspec": {
   "display_name": "Python 3",
   "language": "python",
   "name": "python3"
  },
  "language_info": {
   "codemirror_mode": {
    "name": "ipython",
    "version": 3
   },
   "file_extension": ".py",
   "mimetype": "text/x-python",
   "name": "python",
   "nbconvert_exporter": "python",
   "pygments_lexer": "ipython3",
   "version": "3.8.5"
  }
 },
 "nbformat": 4,
 "nbformat_minor": 4
}
