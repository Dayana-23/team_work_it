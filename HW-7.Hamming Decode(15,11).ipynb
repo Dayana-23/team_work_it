{
 "cells": [
  {
   "cell_type": "markdown",
   "metadata": {},
   "source": [
    "# Assignment-7.\n",
    "+ **Hamming Decode(15,11) is in This Jupiter Notebook**\n",
    "+ **Hamming Decode(7,4) is in  Dariya's Notebook**"
   ]
  },
  {
   "cell_type": "markdown",
   "metadata": {},
   "source": [
    "### Done by Dayana - Hamming Decoding Part (15,11)"
   ]
  },
  {
   "cell_type": "code",
   "execution_count": 18,
   "metadata": {},
   "outputs": [
    {
     "name": "stdout",
     "output_type": "stream",
     "text": [
      "Text file A_Z Handwritten Data\n",
      "_______________________________________________________\n",
      "Original file from Hamming Encoding: 011000000001001011001110001110001101111010001111001011001111110100110100011000111101010011\n",
      "_______________________________________________________\n"
     ]
    }
   ],
   "source": [
    "file = open(\"GirlsFileText.txt\")\n",
    "text=file.read()\n",
    "file = open('hamming_output_15_11.txt')\n",
    "string=file.read()\n",
    "print('Text file',text)\n",
    "print('_'*55)\n",
    "print('Original file from Hamming Encoding:',string)\n",
    "print('_'*55)"
   ]
  },
  {
   "cell_type": "markdown",
   "metadata": {},
   "source": [
    "### *Initial blocks divided by 16*"
   ]
  },
  {
   "cell_type": "code",
   "execution_count": 19,
   "metadata": {},
   "outputs": [
    {
     "name": "stdout",
     "output_type": "stream",
     "text": [
      "Initial Blocks: b1:0110000000010010\n",
      "b2:1100111000111000\n",
      "b3:1101111010001111\n",
      "b4:0010110011111101\n",
      "b5:0011010001100011\n"
     ]
    }
   ],
   "source": [
    "i=1\n",
    "stringcopy = string\n",
    "print('Initial Blocks:', end=' ')\n",
    "while len(stringcopy) >= 16:\n",
    "    print(f\"b{i}:{stringcopy[0:16]}\")\n",
    "    i=i+1\n",
    "    stringcopy=stringcopy[16:]"
   ]
  },
  {
   "cell_type": "markdown",
   "metadata": {},
   "source": [
    "## *Simulating the channel by randomly flipping each bit in each codeword*\n",
    "### *Function-ErrorGen(percent, bitstring)*"
   ]
  },
  {
   "cell_type": "code",
   "execution_count": 20,
   "metadata": {},
   "outputs": [],
   "source": [
    "import random\n",
    "def ErrorGen(percent,bitstring):\n",
    "    i=1\n",
    "    bits=[]\n",
    "    while len(bitstring)>=16:\n",
    "        bits.append(bitstring[0:16])\n",
    "        if len(bitstring)==16:\n",
    "            print('b'+str(i)+':'+bitstring[0:16],end=' ')\n",
    "            bitstring=bitstring[16:]\n",
    "        else:\n",
    "            print('b'+str(i)+':'+bitstring[0:16]+',',end=' ')\n",
    "            bitstring=bitstring[16:]\n",
    "            i=i+1\n",
    "    randomList=random.sample(range(0, len(bits)), int(percent*10))\n",
    "    new_bits=[]\n",
    "    for i in range(0,len(bits)):\n",
    "        if i in randomList:\n",
    "            n=random.randint(0,15)\n",
    "            block=bits[i]\n",
    "            new_bits.append(block[:n]+str(1-int(block[n]))+block[n+1:])\n",
    "        else:\n",
    "            block=bits[i]\n",
    "            new_bits.append(block)\n",
    "    return new_bits"
   ]
  },
  {
   "cell_type": "code",
   "execution_count": 21,
   "metadata": {},
   "outputs": [
    {
     "name": "stdout",
     "output_type": "stream",
     "text": [
      "Blocks with errors:\n",
      "b1:0110000000010010, b2:1100111000111000, b3:1101111010001111, b4:0010110011111101, b5:0011010001100011, "
     ]
    },
    {
     "data": {
      "text/plain": [
       "['0111000000010010',\n",
       " '1000111000111000',\n",
       " '1101111010001111',\n",
       " '0110110011111101',\n",
       " '1011010001100011']"
      ]
     },
     "execution_count": 21,
     "metadata": {},
     "output_type": "execute_result"
    }
   ],
   "source": [
    "print('Blocks with errors:')\n",
    "ErrorGen(0.4,'011000000001001011001110001110001101111010001111001011001111110100110100011000111101010011')"
   ]
  },
  {
   "cell_type": "markdown",
   "metadata": {},
   "source": [
    "## Hamming Decoding (15,11)"
   ]
  },
  {
   "cell_type": "code",
   "execution_count": 22,
   "metadata": {},
   "outputs": [],
   "source": [
    "def HammingDecode2(block):\n",
    "    message=block[2]+block[4]+block[5]+block[6]+block[8]+block[9]+block[10]+block[11]+block[12]+block[13]+block[14]\n",
    "    for b in block:\n",
    "        print(b,end=' ')  \n",
    "    print(':')\n",
    "    print('Checking parity bits:')\n",
    "\n",
    "    p1=block[0]\n",
    "    st1=message[0]+message[1]+message[3]+message[4]+message[6]+message[8]+message[10]\n",
    "    check1=str(st1.count('1')%2)\n",
    "    print(f\"p1: b3+b5+b7+b9+b11+b13+b15={message[0]}+{message[1]}+{message[3]}+{message[4]}+{message[6]}+{message[8]}={check1}\",end=\" \")   \n",
    "    if check1==p1:\n",
    "        print('correct')\n",
    "    else:\n",
    "        print('incorrect')\n",
    "\n",
    "    p2=block[1]\n",
    "    st2=message[0]+message[2]+message[3]+message[5]+message[6]+message[9]+message[10]\n",
    "    check2=str(st2.count('1')%2)\n",
    "    print(f\"p2: b3+b6+b7+b10+b11+b14+b15={message[0]}+{message[2]}+{message[3]}+{message[5]}+{message[6]}+{message[9]}+{message[10]}={check2}\",end=\" \")\n",
    "    if check2==p2:\n",
    "        print('correct')\n",
    "    else:\n",
    "        print('incorrect')\n",
    "\n",
    "    p3=block[3] \n",
    "    st3=message[1]+message[2]+message[3]+message[7]+message[8]+message[9]+message[10]    \n",
    "    check3=str(st3.count('1')%2) \n",
    "    print(f\"p3: b5+b6+b7+b12+b13+b14+b15={message[1]}+{message[2]}+{message[3]}+{message[7]}+{message[8]}+{message[9]}+{message[10]}={check3}\",end=\" \")\n",
    "    if check3==p3:\n",
    "        print('correct')\n",
    "    else:\n",
    "        print('incorrect')\n",
    "\n",
    "    p4=block[4] \n",
    "    st4=message[4]+message[5]+message[6]+message[7]+message[8]+message[9]+message[10]   \n",
    "    check4=str(st4.count('1')%2) \n",
    "    print(f\"p4: b9+b10+b11+b12+b13+b14+b15={message[4]}+{message[5]}+{message[6]}+{message[7]}+{message[8]}+{message[9]}+{message[10]}={check4}\",end=\" \")\n",
    "    if check4==p4:\n",
    "        print('correct')\n",
    "    else:\n",
    "        print('incorrect')\n",
    "\n",
    "    p0=block[7]\n",
    "    st0=block[:7]\n",
    "    check0=str(st0.count('1')%2)\n",
    "    print(f\"p0: b1+b2+b3+b4+b5+b6+b7+b8+b9+b10+b11+b12+b13+b14+b15={block[0]}+{block[1]}+{block[2]}+{block[3]}+{block[4]}+{block[5]}+{block[6]}+{block[7]}+{block[8]}+{block[9]}+{block[10]}+{block[11]}+{block[12]}+{block[13]}+{block[14]}={check0}\", end=' ')\n",
    "    if check0==p0:\n",
    "        print('correct')\n",
    "    else:\n",
    "        print('incorrect')\n",
    "    if check1==p1 and check2==p2 and check3==p3 and check0==p0:\n",
    "        print('No Errrors')\n",
    "        return message\n",
    "    else:\n",
    "        a=block[0]+block[1]+block[3]+block[4]+block[6]+block[8]+block[10]\n",
    "        b=block[0]+block[2]+block[3]+block[5]+block[6]+block[9]+block[10]\n",
    "        c=block[1]+block[2]+block[3]+block[7]+block[8]+block[9]+block[10]\n",
    "        d=block[4]+block[5]+block[6]+block[7]+block[8]+block[9]+block[10]\n",
    "        a_str=str(int(a.count('1')%2==1))\n",
    "        b_str=str(int(b.count('1')%2==1))\n",
    "        c_str=str(int(c.count('1')%2==1))\n",
    "        d_str=str(int(d.count('1')%2==1))\n",
    "        syndrome=a_str+b_str+c_str+d_str\n",
    "        #print('Syndrome: ',syndrome)\n",
    "        string=''\n",
    "        \n",
    "        originnal = [block[3],block[5],block[6],block[7],block[9],block[10],block[11],block[12],block[13],block[14],block[15]]\n",
    "        dec_str = ''.join(map(str, originnal))\n",
    "        \n",
    "        if syndrome=='0001':\n",
    "            print('Error at position 0')\n",
    "            string=str(1-int(block[0]))+block[1:]\n",
    "            print('Corrected string:', string)\n",
    "            print('Decoded bitstring:',dec_str,'\\n')\n",
    "        \n",
    "        elif syndrome=='0010':\n",
    "            print('Error at position 1')\n",
    "            string=block[0]+str(1-int(block[1]))+block[2:]\n",
    "            print('Corrected string:', string)\n",
    "            print('Decoded bitstring:',dec_str,'\\n')\n",
    "        elif syndrome=='0100':\n",
    "            print('Error at position 2')\n",
    "            string=block[0:2]+str(1-int(block[2]))+block[3:]\n",
    "            print('Corrected string:', string)\n",
    "            print('Decoded bitstring:',dec_str,'\\n')\n",
    "        elif syndrome=='1000':\n",
    "            print('Error at position 3')\n",
    "            string=block[0:3]+str(1-int(block[3]))+block[4:]\n",
    "            print('Corrected string:', string)\n",
    "            print('Decoded bitstring:',dec_str,'\\n')\n",
    "        elif syndrome=='0011':\n",
    "            print('Error at position 4')\n",
    "            string=block[0:4]+str(1-int(block[4]))+block[5:]\n",
    "            print('Corrected string:', string)\n",
    "            print('Decoded bitstring:',dec_str,'\\n')\n",
    "        elif syndrome=='0101':\n",
    "            print('Error at position 5')\n",
    "            string=block[0:5]+str(1-int(block[5]))+block[6:]\n",
    "            print('Corrected string:', string)\n",
    "            print('Decoded bitstring:',dec_str,'\\n')\n",
    "        elif syndrome=='0110':\n",
    "            print('Error at position 6')\n",
    "            string=block[0:6]+str(1-int(block[6]))+block[7:]\n",
    "            print('Corrected string:', string)\n",
    "            print('Decoded bitstring:',dec_str,'\\n')\n",
    "        elif syndrome=='0111':\n",
    "            print('Error at position 7')\n",
    "            string=block[0:7]+str(1-int(block[7]))+block[8:]\n",
    "            print('Corrected string:', string)\n",
    "            print('Decoded bitstring:',dec_str,'\\n')\n",
    "        elif syndrome=='1001':\n",
    "            print('Error at position 8')\n",
    "            string=block[0:8]+str(1-int(block[8]))+block[9:]\n",
    "            print('Corrected string:', string)\n",
    "            print('Decoded bitstring:',dec_str,'\\n')\n",
    "        elif syndrome=='1010':\n",
    "            print('Error at position 9')\n",
    "            string=block[0:9]+str(1-int(block[9]))+block[10:]\n",
    "            print('Corrected string:', string)\n",
    "            print('Decoded bitstring:',dec_str,'\\n')\n",
    "        elif syndrome=='1011':\n",
    "            print('Error at position 10')\n",
    "            string=block[0:10]+str(1-int(block[10]))+block[11:]\n",
    "            print('Corrected string:', string)\n",
    "            print('Decoded bitstring:',dec_str,'\\n')\n",
    "        elif syndrome=='1100':\n",
    "            print('Error at position 11') \n",
    "            string=block[0:11]+str(1-int(block[11]))+block[12:]\n",
    "            print('Corrected string:', string)\n",
    "            print('Decoded bitstring:',dec_str,'\\n')\n",
    "        elif syndrome=='1101':\n",
    "            print('Error at position 12')\n",
    "            string=block[0:12]+str(1-int(block[12]))+block[13:]\n",
    "            print('Corrected string:', string)\n",
    "            print('Decoded bitstring:',dec_str,'\\n')\n",
    "        elif syndrome=='1110':\n",
    "            print('Error at position 13')\n",
    "            string=block[0:13]+str(1-int(block[13]))+block[14:]\n",
    "            print('Corrected string:', string)\n",
    "            print('Decoded bitstring:',dec_str,'\\n')\n",
    "        elif syndrome=='1111':\n",
    "            print('Error at position 14')\n",
    "            string=block[:14]+str(1-int(block[14]))\n",
    "            print('Corrected string:', string)\n",
    "            print('Decoded bitstring:',dec_str,'\\n')\n",
    "        return string"
   ]
  },
  {
   "cell_type": "markdown",
   "metadata": {},
   "source": [
    "## *Let's Run the function -HammingDecode2():*"
   ]
  },
  {
   "cell_type": "code",
   "execution_count": 23,
   "metadata": {},
   "outputs": [
    {
     "name": "stdout",
     "output_type": "stream",
     "text": [
      "b1:0110000000010010, b2:1100111000111000, b3:1101111010001111, b4:0010110011111101, b5:0011010001100011, 0 1 1 0 0 0 0 0 0 0 0 1 0 1 1 0 :\n",
      "Checking parity bits:\n",
      "p1: b3+b5+b7+b9+b11+b13+b15=1+0+0+0+0+0=0 correct\n",
      "p2: b3+b6+b7+b10+b11+b14+b15=1+0+0+0+0+1+1=1 correct\n",
      "p3: b5+b6+b7+b12+b13+b14+b15=0+0+0+1+0+1+1=1 incorrect\n",
      "p4: b9+b10+b11+b12+b13+b14+b15=0+0+0+1+0+1+1=1 incorrect\n",
      "p0: b1+b2+b3+b4+b5+b6+b7+b8+b9+b10+b11+b12+b13+b14+b15=0+1+1+0+0+0+0+0+0+0+0+1+0+1+1=0 correct\n",
      "Error at position 11\n",
      "Corrected string: 0110000000000110\n",
      "Decoded bitstring: 00000010110 \n",
      "\n",
      "1 1 1 0 1 1 1 0 0 0 1 1 1 0 0 0 :\n",
      "Checking parity bits:\n",
      "p1: b3+b5+b7+b9+b11+b13+b15=1+1+1+0+1+1=1 correct\n",
      "p2: b3+b6+b7+b10+b11+b14+b15=1+1+1+0+1+0+0=0 incorrect\n",
      "p3: b5+b6+b7+b12+b13+b14+b15=1+1+1+1+1+0+0=1 incorrect\n",
      "p4: b9+b10+b11+b12+b13+b14+b15=0+0+1+1+1+0+0=1 correct\n",
      "p0: b1+b2+b3+b4+b5+b6+b7+b8+b9+b10+b11+b12+b13+b14+b15=1+1+1+0+1+1+1+0+0+0+1+1+1+0+0=0 correct\n",
      "Error at position 13\n",
      "Corrected string: 1110111000111100\n",
      "Decoded bitstring: 01100111000 \n",
      "\n",
      "1 1 0 0 1 1 1 0 1 0 0 0 1 1 1 1 :\n",
      "Checking parity bits:\n",
      "p1: b3+b5+b7+b9+b11+b13+b15=0+1+1+1+0+1=1 correct\n",
      "p2: b3+b6+b7+b10+b11+b14+b15=0+1+1+0+0+1+1=0 incorrect\n",
      "p3: b5+b6+b7+b12+b13+b14+b15=1+1+1+0+1+1+1=0 correct\n",
      "p4: b9+b10+b11+b12+b13+b14+b15=1+0+0+0+1+1+1=0 incorrect\n",
      "p0: b1+b2+b3+b4+b5+b6+b7+b8+b9+b10+b11+b12+b13+b14+b15=1+1+0+0+1+1+1+0+1+0+0+0+1+1+1=1 incorrect\n",
      "Error at position 11\n",
      "Corrected string: 1100111010011111\n",
      "Decoded bitstring: 01100001111 \n",
      "\n",
      "0 0 1 0 1 1 0 1 1 1 1 1 1 1 0 1 :\n",
      "Checking parity bits:\n",
      "p1: b3+b5+b7+b9+b11+b13+b15=1+1+0+1+1+1=1 incorrect\n",
      "p2: b3+b6+b7+b10+b11+b14+b15=1+1+0+1+1+1+0=1 incorrect\n",
      "p3: b5+b6+b7+b12+b13+b14+b15=1+1+0+1+1+1+0=1 incorrect\n",
      "p4: b9+b10+b11+b12+b13+b14+b15=1+1+1+1+1+1+0=0 incorrect\n",
      "p0: b1+b2+b3+b4+b5+b6+b7+b8+b9+b10+b11+b12+b13+b14+b15=0+0+1+0+1+1+0+1+1+1+1+1+1+1+0=1 correct\n",
      "Error at position 9\n",
      "Corrected string: 0010110110111101\n",
      "Decoded bitstring: 01011111101 \n",
      "\n",
      "0 0 1 1 0 1 0 0 0 1 1 0 0 0 1 1 :\n",
      "Checking parity bits:\n",
      "p1: b3+b5+b7+b9+b11+b13+b15=1+0+0+0+1+0=1 incorrect\n",
      "p2: b3+b6+b7+b10+b11+b14+b15=1+1+0+1+1+0+1=1 incorrect\n",
      "p3: b5+b6+b7+b12+b13+b14+b15=0+1+0+0+0+0+1=0 incorrect\n",
      "p4: b9+b10+b11+b12+b13+b14+b15=0+1+1+0+0+0+1=1 incorrect\n",
      "p0: b1+b2+b3+b4+b5+b6+b7+b8+b9+b10+b11+b12+b13+b14+b15=0+0+1+1+0+1+0+0+0+1+1+0+0+0+1=1 incorrect\n",
      "Error at position 5\n",
      "Corrected string: 0011000001100011\n",
      "Decoded bitstring: 11001100011 \n",
      "\n"
     ]
    }
   ],
   "source": [
    "# 40 % PROBABILITY:\n",
    "result=\"\"\n",
    "for i in ErrorGen(0.4,'011000000001001011001110001110001101111010001111001011001111110100110100011000111101010011'):\n",
    "    result=result+HammingDecode2(i)"
   ]
  },
  {
   "cell_type": "markdown",
   "metadata": {},
   "source": [
    "## *Collecting all of decoded bitstrings into 1 sequence.*"
   ]
  },
  {
   "cell_type": "code",
   "execution_count": 27,
   "metadata": {},
   "outputs": [
    {
     "name": "stdout",
     "output_type": "stream",
     "text": [
      "Decoded sequence: \n",
      "Original sequence: 00000001001011100011101111101000101011001111101101000111111101001101110101\n",
      "Heyyy,they match\n"
     ]
    }
   ],
   "source": [
    "print('Decoded sequence: ',result)\n",
    "with open('decoding.txt') as file:\n",
    "    preivous = file.read()\n",
    "print('Original sequence: ',preivous)\n",
    "\n",
    "if preivous == result:\n",
    "    print('Heyyy,they match')\n",
    "else:\n",
    "    print('Noo,dont match')"
   ]
  }
 ],
 "metadata": {
  "kernelspec": {
   "display_name": "Python 3",
   "language": "python",
   "name": "python3"
  },
  "language_info": {
   "codemirror_mode": {
    "name": "ipython",
    "version": 3
   },
   "file_extension": ".py",
   "mimetype": "text/x-python",
   "name": "python",
   "nbconvert_exporter": "python",
   "pygments_lexer": "ipython3",
   "version": "3.8.5"
  }
 },
 "nbformat": 4,
 "nbformat_minor": 4
}
